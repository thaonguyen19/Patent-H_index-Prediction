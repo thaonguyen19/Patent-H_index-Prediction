{
 "cells": [
  {
   "cell_type": "code",
   "execution_count": 1,
   "metadata": {
    "collapsed": true
   },
   "outputs": [],
   "source": [
    "import snap\n",
    "import pandas as pd\n",
    "import numpy as np\n",
    "import csv\n",
    "import collections\n",
    "import operator"
   ]
  },
  {
   "cell_type": "code",
   "execution_count": 2,
   "metadata": {
    "collapsed": false
   },
   "outputs": [],
   "source": [
    "df_citation = pd.read_table('~/uspatentcitation.tsv', usecols=['patent_id', 'citation_id'])"
   ]
  },
  {
   "cell_type": "code",
   "execution_count": 3,
   "metadata": {
    "collapsed": false
   },
   "outputs": [
    {
     "data": {
      "text/html": [
       "<div>\n",
       "<style>\n",
       "    .dataframe thead tr:only-child th {\n",
       "        text-align: right;\n",
       "    }\n",
       "\n",
       "    .dataframe thead th {\n",
       "        text-align: left;\n",
       "    }\n",
       "\n",
       "    .dataframe tbody tr th {\n",
       "        vertical-align: top;\n",
       "    }\n",
       "</style>\n",
       "<table border=\"1\" class=\"dataframe\">\n",
       "  <thead>\n",
       "    <tr style=\"text-align: right;\">\n",
       "      <th></th>\n",
       "      <th>patent_id</th>\n",
       "      <th>citation_id</th>\n",
       "    </tr>\n",
       "  </thead>\n",
       "  <tbody>\n",
       "    <tr>\n",
       "      <th>0</th>\n",
       "      <td>9009250</td>\n",
       "      <td>8127342</td>\n",
       "    </tr>\n",
       "    <tr>\n",
       "      <th>1</th>\n",
       "      <td>9643605</td>\n",
       "      <td>5471515</td>\n",
       "    </tr>\n",
       "    <tr>\n",
       "      <th>2</th>\n",
       "      <td>5354551</td>\n",
       "      <td>4875247</td>\n",
       "    </tr>\n",
       "    <tr>\n",
       "      <th>3</th>\n",
       "      <td>D786922</td>\n",
       "      <td>D718330</td>\n",
       "    </tr>\n",
       "  </tbody>\n",
       "</table>\n",
       "</div>"
      ],
      "text/plain": [
       "  patent_id citation_id\n",
       "0   9009250     8127342\n",
       "1   9643605     5471515\n",
       "2   5354551     4875247\n",
       "3   D786922     D718330"
      ]
     },
     "execution_count": 3,
     "metadata": {},
     "output_type": "execute_result"
    }
   ],
   "source": [
    "df_citation.head(4)"
   ]
  },
  {
   "cell_type": "code",
   "execution_count": 4,
   "metadata": {
    "collapsed": false
   },
   "outputs": [],
   "source": [
    "#patent_id cited #citation_id which was released on #date\n",
    "#check patent_id is released between 2000 and 2010\n",
    "#check citation_id is released between 1990 and 2000. Find out which #citation_id belongs to which company\n",
    "#########################################################################################################\n",
    "patentid_col = df_citation['patent_id']\n",
    "citationid_col = df_citation['citation_id']"
   ]
  },
  {
   "cell_type": "code",
   "execution_count": 5,
   "metadata": {
    "collapsed": false
   },
   "outputs": [],
   "source": [
    "#print sorted(patentid_col)"
   ]
  },
  {
   "cell_type": "code",
   "execution_count": 6,
   "metadata": {
    "collapsed": false
   },
   "outputs": [],
   "source": [
    "citation_cache = collections.defaultdict(list) #map cited patent to all patents that cited it\n",
    "for i in range(len(citationid_col)):\n",
    "    patent_cited = citationid_col[i]\n",
    "    citation_cache[patent_cited].append(patentid_col[i])\n",
    "#print citation_cache"
   ]
  },
  {
   "cell_type": "code",
   "execution_count": 7,
   "metadata": {
    "collapsed": false
   },
   "outputs": [
    {
     "data": {
      "text/html": [
       "<div>\n",
       "<style>\n",
       "    .dataframe thead tr:only-child th {\n",
       "        text-align: right;\n",
       "    }\n",
       "\n",
       "    .dataframe thead th {\n",
       "        text-align: left;\n",
       "    }\n",
       "\n",
       "    .dataframe tbody tr th {\n",
       "        vertical-align: top;\n",
       "    }\n",
       "</style>\n",
       "<table border=\"1\" class=\"dataframe\">\n",
       "  <thead>\n",
       "    <tr style=\"text-align: right;\">\n",
       "      <th></th>\n",
       "      <th>patent_id</th>\n",
       "      <th>organization</th>\n",
       "    </tr>\n",
       "  </thead>\n",
       "  <tbody>\n",
       "    <tr>\n",
       "      <th>0</th>\n",
       "      <td>D356598</td>\n",
       "      <td>The Gillette Company</td>\n",
       "    </tr>\n",
       "    <tr>\n",
       "      <th>1</th>\n",
       "      <td>D356598</td>\n",
       "      <td>The Gillette Company</td>\n",
       "    </tr>\n",
       "    <tr>\n",
       "      <th>2</th>\n",
       "      <td>D356598</td>\n",
       "      <td>The Gillette Company</td>\n",
       "    </tr>\n",
       "    <tr>\n",
       "      <th>3</th>\n",
       "      <td>D356598</td>\n",
       "      <td>The Gillette Company</td>\n",
       "    </tr>\n",
       "  </tbody>\n",
       "</table>\n",
       "</div>"
      ],
      "text/plain": [
       "  patent_id          organization\n",
       "0   D356598  The Gillette Company\n",
       "1   D356598  The Gillette Company\n",
       "2   D356598  The Gillette Company\n",
       "3   D356598  The Gillette Company"
      ]
     },
     "execution_count": 7,
     "metadata": {},
     "output_type": "execute_result"
    }
   ],
   "source": [
    "df_filtered = pd.read_table('~/patent_organization_filtered.tsv', usecols=['patent_id', 'organization'])\n",
    "df_filtered.head(4)"
   ]
  },
  {
   "cell_type": "code",
   "execution_count": 8,
   "metadata": {
    "collapsed": false
   },
   "outputs": [],
   "source": [
    "org_patent_cache = collections.defaultdict(list) #map each firm to the patents that it owns. patent already filtered to be in 1990-2000\n",
    "patentid_col = df_filtered['patent_id']\n",
    "organization_col = df_filtered['organization']\n",
    "\n",
    "for i in range(len(patentid_col)):\n",
    "    org = organization_col[i]\n",
    "    cited_patent = patentid_col[i]\n",
    "    org_patent_cache[org].append(cited_patent)"
   ]
  },
  {
   "cell_type": "code",
   "execution_count": 9,
   "metadata": {
    "collapsed": false
   },
   "outputs": [
    {
     "name": "stderr",
     "output_type": "stream",
     "text": [
      "/Users/Thao/anaconda/lib/python2.7/site-packages/IPython/core/interactiveshell.py:2717: DtypeWarning: Columns (0) have mixed types. Specify dtype option on import or set low_memory=False.\n",
      "  interactivity=interactivity, compiler=compiler, result=result)\n"
     ]
    },
    {
     "data": {
      "text/html": [
       "<div>\n",
       "<style>\n",
       "    .dataframe thead tr:only-child th {\n",
       "        text-align: right;\n",
       "    }\n",
       "\n",
       "    .dataframe thead th {\n",
       "        text-align: left;\n",
       "    }\n",
       "\n",
       "    .dataframe tbody tr th {\n",
       "        vertical-align: top;\n",
       "    }\n",
       "</style>\n",
       "<table border=\"1\" class=\"dataframe\">\n",
       "  <thead>\n",
       "    <tr style=\"text-align: right;\">\n",
       "      <th></th>\n",
       "      <th>id</th>\n",
       "      <th>date</th>\n",
       "    </tr>\n",
       "  </thead>\n",
       "  <tbody>\n",
       "    <tr>\n",
       "      <th>0</th>\n",
       "      <td>3930271</td>\n",
       "      <td>1976-01-06</td>\n",
       "    </tr>\n",
       "    <tr>\n",
       "      <th>1</th>\n",
       "      <td>3930272</td>\n",
       "      <td>1976-01-06</td>\n",
       "    </tr>\n",
       "    <tr>\n",
       "      <th>2</th>\n",
       "      <td>3930273</td>\n",
       "      <td>1976-01-06</td>\n",
       "    </tr>\n",
       "    <tr>\n",
       "      <th>3</th>\n",
       "      <td>3930274</td>\n",
       "      <td>1976-01-06</td>\n",
       "    </tr>\n",
       "  </tbody>\n",
       "</table>\n",
       "</div>"
      ],
      "text/plain": [
       "        id        date\n",
       "0  3930271  1976-01-06\n",
       "1  3930272  1976-01-06\n",
       "2  3930273  1976-01-06\n",
       "3  3930274  1976-01-06"
      ]
     },
     "execution_count": 9,
     "metadata": {},
     "output_type": "execute_result"
    }
   ],
   "source": [
    "df_patent = pd.read_table('~/patent.tsv', usecols=['id', 'date'])\n",
    "df_patent.head(4)"
   ]
  },
  {
   "cell_type": "code",
   "execution_count": 15,
   "metadata": {
    "collapsed": false
   },
   "outputs": [
    {
     "name": "stdout",
     "output_type": "stream",
     "text": [
      "pg030624.zip\n"
     ]
    }
   ],
   "source": [
    "id_col = df_patent['id']\n",
    "date_col = df_patent['date']\n",
    "patents_00_10 = [] #patents between year 2000-2010\n",
    "\n",
    "for i in range(len(id_col)):\n",
    "    patent = id_col[i]\n",
    "    date = date_col[i]\n",
    "    if not isinstance(date, str):\n",
    "        continue\n",
    "    year = date.split('-')[0]\n",
    "    if not year.isdigit():\n",
    "        print year\n",
    "        continue\n",
    "    if year >= 2000 and year <= 2010:\n",
    "        patents_00_10.append(patent)"
   ]
  },
  {
   "cell_type": "code",
   "execution_count": 20,
   "metadata": {
    "collapsed": false,
    "scrolled": false
   },
   "outputs": [],
   "source": [
    "citedpatent_count = collections.defaultdict(int)\n",
    "for cited_patent in citation_cache:\n",
    "    cite_list = citation_cache[cited_patent]\n",
    "    for patent in cite_list:\n",
    "        if patent not in patents_00_10:\n",
    "            cite_list.remove(patent)\n",
    "    citedpatent_count[cited_patent] += len(cite_list)\n",
    "    "
   ]
  },
  {
   "cell_type": "code",
   "execution_count": 21,
   "metadata": {
    "collapsed": false
   },
   "outputs": [],
   "source": [
    "#print sorted(patentid_col) #seems weird - only starts with letter"
   ]
  },
  {
   "cell_type": "code",
   "execution_count": 22,
   "metadata": {
    "collapsed": false
   },
   "outputs": [],
   "source": [
    "org_ncitations = collections.defaultdict(dict)\n",
    "for org, patent_list in org_patent_cache.items():\n",
    "    for patent in patent_list:\n",
    "        org_ncitations[org][patent] = citedpatent_count[patent]"
   ]
  },
  {
   "cell_type": "code",
   "execution_count": 23,
   "metadata": {
    "collapsed": false
   },
   "outputs": [],
   "source": [
    "#find total count of forward citations\n",
    "#compute h_index\n",
    "f = open('CitationCount_HIndex.csv', 'a')\n",
    "writer = csv.writer(f)\n",
    "\n",
    "for org, citation_count_dict in org_ncitations.items():\n",
    "    count_values = citation_count_dict.values()\n",
    "    sorted_count_values = sorted(count_values, reverse=True) #descending\n",
    "    #sorted_citation_count = sorted(citation_count_dict, key=operator.itemgetter(0), reverse=True) #descending order\n",
    "    total_count = sum(sorted_count_values)\n",
    "    h_index = len(sorted_count_values)\n",
    "    for i in range(len(sorted_count_values)):\n",
    "        if sorted_count_values[i] >= i+1:\n",
    "            continue\n",
    "        else:\n",
    "            h_index = i\n",
    "            break\n",
    "    writer.writerow([org, total_count, h_index])\n",
    "\n",
    "f.close()"
   ]
  },
  {
   "cell_type": "code",
   "execution_count": null,
   "metadata": {
    "collapsed": true
   },
   "outputs": [],
   "source": []
  }
 ],
 "metadata": {
  "anaconda-cloud": {},
  "kernelspec": {
   "display_name": "Python [default]",
   "language": "python",
   "name": "python2"
  },
  "language_info": {
   "codemirror_mode": {
    "name": "ipython",
    "version": 2
   },
   "file_extension": ".py",
   "mimetype": "text/x-python",
   "name": "python",
   "nbconvert_exporter": "python",
   "pygments_lexer": "ipython2",
   "version": "2.7.9"
  }
 },
 "nbformat": 4,
 "nbformat_minor": 1
}
